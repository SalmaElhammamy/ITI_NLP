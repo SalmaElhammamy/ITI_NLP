{
  "nbformat": 4,
  "nbformat_minor": 0,
  "metadata": {
    "colab": {
      "provenance": []
    },
    "kernelspec": {
      "name": "python3",
      "display_name": "Python 3"
    },
    "language_info": {
      "name": "python"
    }
  },
  "cells": [
    {
      "cell_type": "code",
      "execution_count": null,
      "metadata": {
        "id": "w7psouM1OX17"
      },
      "outputs": [],
      "source": [
        "!pip install numpy==1.23.5\n"
      ]
    },
    {
      "cell_type": "code",
      "source": [
        "!pip install --upgrade gensim\n"
      ],
      "metadata": {
        "id": "IcYd5FjSOzNu"
      },
      "execution_count": null,
      "outputs": []
    },
    {
      "cell_type": "code",
      "source": [
        "from gensim.downloader import load\n",
        "glove_model = load('glove-wiki-gigaword-100')\n"
      ],
      "metadata": {
        "colab": {
          "base_uri": "https://localhost:8080/"
        },
        "id": "CFBdunVaPApK",
        "outputId": "97a498cf-e63d-4761-e157-04939d900a29"
      },
      "execution_count": 1,
      "outputs": [
        {
          "output_type": "stream",
          "name": "stdout",
          "text": [
            "[==================================================] 100.0% 128.1/128.1MB downloaded\n"
          ]
        }
      ]
    },
    {
      "cell_type": "markdown",
      "source": [
        "Skip-Gram"
      ],
      "metadata": {
        "id": "17mE9tzzRoXg"
      }
    },
    {
      "cell_type": "code",
      "source": [
        "def simulate_skipgram(target_word):\n",
        "   #check if the given word exist in the pretrained model or not\n",
        "    if target_word in glove_model:\n",
        "        similar_words = glove_model.most_similar(target_word, topn=5)\n",
        "        for word, score in similar_words:\n",
        "            print(f\"{word}  --> {score})\")\n",
        "    else:\n",
        "        print(f\"'{target_word}' not found in GloVe vocabulary.\")\n",
        ""
      ],
      "metadata": {
        "id": "6KkH5TRXQ2jE"
      },
      "execution_count": 12,
      "outputs": []
    },
    {
      "cell_type": "code",
      "source": [
        "simulate_skipgram(\"cat\")"
      ],
      "metadata": {
        "colab": {
          "base_uri": "https://localhost:8080/"
        },
        "id": "1HCY3VxVUjkW",
        "outputId": "acb6166e-6fc6-456d-814e-01d179b1b1d2"
      },
      "execution_count": 13,
      "outputs": [
        {
          "output_type": "stream",
          "name": "stdout",
          "text": [
            "dog  --> 0.8798074722290039)\n",
            "rabbit  --> 0.7424427270889282)\n",
            "cats  --> 0.732300341129303)\n",
            "monkey  --> 0.7288709878921509)\n",
            "pet  --> 0.719014048576355)\n"
          ]
        }
      ]
    },
    {
      "cell_type": "markdown",
      "source": [
        "CBOW"
      ],
      "metadata": {
        "id": "jVtOnfu_SinQ"
      }
    },
    {
      "cell_type": "code",
      "source": [
        "sentence = [\"dog\", \"rabbit\", \"cats\", \"monkey\", \"pet\"]\n",
        "window_size = 2\n"
      ],
      "metadata": {
        "id": "lg-8QYgUVgQu"
      },
      "execution_count": 14,
      "outputs": []
    },
    {
      "cell_type": "code",
      "source": [
        "import numpy as np\n",
        "\n",
        "def get_vector(word):\n",
        "    try:\n",
        "        return glove_model[word]\n",
        "    except:\n",
        "        return np.zeros(100)\n",
        "\n",
        "# Simulate CBOW for the center word at index 2\n",
        "center_index = 2\n",
        "context_indices = [i for i in range(center_index - window_size, center_index + window_size + 1) if i != center_index and 0 <= i < len(sentence)]\n",
        "\n",
        "context_vectors = [get_vector(sentence[i]) for i in context_indices]\n",
        "context_average = np.mean(context_vectors, axis=0)\n",
        "\n",
        "# find the word closest to the context_average\n",
        "similar = glove_model.similar_by_vector(context_average, topn=3)\n",
        "print(\"Predicted :\", similar)\n"
      ],
      "metadata": {
        "colab": {
          "base_uri": "https://localhost:8080/"
        },
        "id": "n0gAqvAOQy_d",
        "outputId": "c3fb1dba-b358-48e8-9c57-215ed8d9ac84"
      },
      "execution_count": 17,
      "outputs": [
        {
          "output_type": "stream",
          "name": "stdout",
          "text": [
            "Predicted : [('cat', 0.9117843508720398), ('dog', 0.8996098041534424), ('pet', 0.8313756585121155)]\n"
          ]
        }
      ]
    }
  ]
}